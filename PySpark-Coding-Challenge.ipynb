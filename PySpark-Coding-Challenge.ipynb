{
 "cells": [
  {
   "cell_type": "markdown",
   "metadata": {
    "application/vnd.databricks.v1+cell": {
     "cellMetadata": {},
     "inputWidgets": {},
     "nuid": "59c298df-a4cb-455f-b8e5-6091c0f9ab3e",
     "showTitle": false,
     "tableResultSettingsMap": {},
     "title": ""
    }
   },
   "source": [
    "# Displaying Dataset "
   ]
  },
  {
   "cell_type": "code",
   "execution_count": 0,
   "metadata": {
    "application/vnd.databricks.v1+cell": {
     "cellMetadata": {
      "byteLimit": 2048000,
      "rowLimit": 10000
     },
     "inputWidgets": {},
     "nuid": "f1d84345-332c-4a59-b4d0-84fac981a9c8",
     "showTitle": false,
     "tableResultSettingsMap": {},
     "title": ""
    }
   },
   "outputs": [
    {
     "output_type": "stream",
     "name": "stdout",
     "output_type": "stream",
     "text": [
      "+-----------+---+------+-------------------+--------------+-----------+------+-----------+-------------+------------------+-----------+-------+------------+----------------+------------------+\n|Customer_ID|Age|Gender|         Occupation|Marital Status|Family Size|Income|Expenditure|Use Frequency|     Loan Category|Loan Amount|Overdue| Debt Record| Returned Cheque| Dishonour of Bill|\n+-----------+---+------+-------------------+--------------+-----------+------+-----------+-------------+------------------+-----------+-------+------------+----------------+------------------+\n|    IB14001| 30|  MALE|       BANK MANAGER|        SINGLE|          4| 50000|      22199|            6|           HOUSING| 10,00,000 |      5|      42,898|               6|                 9|\n|    IB14008| 44|  MALE|          PROFESSOR|       MARRIED|          6| 51000|      19999|            4|          SHOPPING|     50,000|      3|      33,999|               1|                 5|\n|    IB14012| 30|FEMALE|            DENTIST|        SINGLE|          3| 58450|      27675|            5|        TRAVELLING|     75,000|      6|      20,876|               3|                 1|\n|    IB14018| 29|  MALE|            TEACHER|       MARRIED|          5| 45767|      12787|            3|         GOLD LOAN|  6,00,000 |      7|      11,000|               0|                 4|\n|    IB14022| 34|  MALE|             POLICE|        SINGLE|          4| 43521|      11999|            3|        AUTOMOBILE|  2,00,000 |      2|      43,898|               1|                 2|\n|    IB14024| 55|FEMALE|              NURSE|       MARRIED|          6| 34999|      19888|            4|        AUTOMOBILE|     47,787|      1|      50,000|               0|                 3|\n|    IB14025| 39|FEMALE|            TEACHER|       MARRIED|          6| 46619|      18675|            4|           HOUSING| 12,09,867 |      8|      29,999|               6|                 8|\n|    IB14027| 51|  MALE|     SYSTEM MANAGER|       MARRIED|          3| 49999|      19111|            5|       RESTAURANTS|     60,676|      8|      13,000|               2|                 5|\n|    IB14029| 24|FEMALE|            TEACHER|        SINGLE|          3| 45008|      17454|            4|        AUTOMOBILE|  3,99,435 |      9|      51,987|               4|                 7|\n|    IB14031| 37|FEMALE|  SOFTWARE ENGINEER|       MARRIED|          5| 55999|      23999|            5|        AUTOMOBILE|     60,999|      2|           0|               5|                 3|\n|    IB14032| 24|  MALE|       DATA ANALYST|        SINGLE|          4| 60111|      28999|            6|        AUTOMOBILE|     35,232|      5|      33,333|               1|                 2|\n|    IB14034| 32|  MALE|   PRODUCT ENGINEER|       MARRIED|          6|  null|      29000|            7|COMPUTER SOFTWARES|     80,660|      6|       4,500|               5|                 4|\n|    IB14037| 54|FEMALE|            TEACHER|       MARRIED|          5| 48099|      19999|            4|       RESTAURANTS|     30,999|      1|      12,000|               7|                 5|\n|    IB14039| 45|  MALE|    ACCOUNT MANAGER|       MARRIED|          7| 45777|      18452|            4|         GOLD LOAN|  9,87,611 |      7|      39,999|               8|                 1|\n|    IB14041| 59|FEMALE|ASSISTANT PROFESSOR|       MARRIED|          4| 50999|      22999|            5|  EDUCATIONAL LOAN|  5,99,934 |      3|       9,000|               9|                 9|\n|    IB14042| 25|FEMALE|             DOCTOR|        SINGLE|          4| 60111|      27111|            5|        TRAVELLING| 12,90,929 |      4|      18,000|               1|                 0|\n|    IB14045| 31|  MALE|       STORE KEEPER|        SINGLE|          5| 40999|      11999|            3|       BOOK STORES|  1,67,654 |      1|       4,500|               0|                 1|\n|    IB14049| 49|  MALE|       BANK MANAGER|       MARRIED|          4| 45999|      14500|            4|        TRAVELLING|     79,999|      4|       6,700|               7|                 3|\n|    IB14050| 56|  MALE|     CIVIL ENGINEER|       MARRIED|          4|  null|      13999|            3|           HOUSING| 10,65,577 |      6|      19,999|               4|                 2|\n|    IB14054| 58|FEMALE|             DOCTOR|       MARRIED|          5| 60000|      25000|            5|           HOUSING|  9,00,000 |      5|      21,000|               9|                 0|\n+-----------+---+------+-------------------+--------------+-----------+------+-----------+-------------+------------------+-----------+-------+------------+----------------+------------------+\nonly showing top 20 rows\n\n"
     ]
    }
   ],
   "source": [
    "# Display the table using PySpark DataFrame API\n",
    "df = spark.table(\"loan\")  # Assuming the table name is \"loan\"\n",
    "\n",
    "# Show the first few rows of the table\n",
    "df.show()\n"
   ]
  },
  {
   "cell_type": "markdown",
   "metadata": {
    "application/vnd.databricks.v1+cell": {
     "cellMetadata": {},
     "inputWidgets": {},
     "nuid": "d4b2afa6-2383-44e0-99fe-3d4b37df4f78",
     "showTitle": false,
     "tableResultSettingsMap": {},
     "title": ""
    }
   },
   "source": [
    "# Filter\n"
   ]
  },
  {
   "cell_type": "code",
   "execution_count": 0,
   "metadata": {
    "application/vnd.databricks.v1+cell": {
     "cellMetadata": {
      "byteLimit": 2048000,
      "rowLimit": 10000
     },
     "inputWidgets": {},
     "nuid": "ea41ead4-191c-42c4-ae74-71a84fe3aedc",
     "showTitle": false,
     "tableResultSettingsMap": {},
     "title": ""
    }
   },
   "outputs": [
    {
     "output_type": "stream",
     "name": "stdout",
     "output_type": "stream",
     "text": [
      "+-----------+---+------+-------------------+--------------+-----------+------+-----------+-------------+------------------+-----------+-------+------------+----------------+------------------+\n|Customer_ID|Age|Gender|         Occupation|Marital Status|Family Size|Income|Expenditure|Use Frequency|     Loan Category|Loan Amount|Overdue| Debt Record| Returned Cheque| Dishonour of Bill|\n+-----------+---+------+-------------------+--------------+-----------+------+-----------+-------------+------------------+-----------+-------+------------+----------------+------------------+\n|    IB14008| 44|  MALE|          PROFESSOR|       MARRIED|          6| 51000|      19999|            4|          SHOPPING|     50,000|      3|      33,999|               1|                 5|\n|    IB14024| 55|FEMALE|              NURSE|       MARRIED|          6| 34999|      19888|            4|        AUTOMOBILE|     47,787|      1|      50,000|               0|                 3|\n|    IB14027| 51|  MALE|     SYSTEM MANAGER|       MARRIED|          3| 49999|      19111|            5|       RESTAURANTS|     60,676|      8|      13,000|               2|                 5|\n|    IB14037| 54|FEMALE|            TEACHER|       MARRIED|          5| 48099|      19999|            4|       RESTAURANTS|     30,999|      1|      12,000|               7|                 5|\n|    IB14039| 45|  MALE|    ACCOUNT MANAGER|       MARRIED|          7| 45777|      18452|            4|         GOLD LOAN|  9,87,611 |      7|      39,999|               8|                 1|\n|    IB14041| 59|FEMALE|ASSISTANT PROFESSOR|       MARRIED|          4| 50999|      22999|            5|  EDUCATIONAL LOAN|  5,99,934 |      3|       9,000|               9|                 9|\n|    IB14049| 49|  MALE|       BANK MANAGER|       MARRIED|          4| 45999|      14500|            4|        TRAVELLING|     79,999|      4|       6,700|               7|                 3|\n|    IB14050| 56|  MALE|     CIVIL ENGINEER|       MARRIED|          4|  null|      13999|            3|           HOUSING| 10,65,577 |      6|      19,999|               4|                 2|\n|    IB14054| 58|FEMALE|             DOCTOR|       MARRIED|          5| 60000|      25000|            5|           HOUSING|  9,00,000 |      5|      21,000|               9|                 0|\n|    IB14078| 45|FEMALE|    FIRE DEPARTMENT|       MARRIED|          4| 40000|      18888|            4|        AUTOMOBILE|     70,000|      1|           0|               2|                 1|\n|    IB14082| 60|FEMALE|            TEACHER|       MARRIED|          5| 70000|      40000|            9|         GOLD LOAN|  2,57,789 |      4|      10,058|               4|                 3|\n|    IB14086| 51|FEMALE|         TECHNICIAN|       MARRIED|          5| 30000|       null|            5|       RESTAURANTS|  1,25,463 |      7|      52,634|               4|                10|\n|    IB14092| 47|  MALE|    SYSTEM ENGINEER|       MARRIED|          4| 52364|      45612|            3|         GOLD LOAN|  6,54,725 |      4|      67,451|               5|                 4|\n|    1B14094| 49|  MALE|ASSISTANT PROFESSOR|       MARRIED|          5| 65214|      42589|            5|           HOUSING|  9,85,412 |      5|      11,254|               1|                 2|\n|    IB14099| 47|FEMALE|             DOCTOR|       MARRIED|          4| 72154|      45286|            4|        AUTOMOBILE|  7,54,126 |      2|      19,524|               5|                 2|\n|    IB14104| 54|  MALE|    AIRPORT OFFICER|       MARRIED|          6| 80000|      32541|            2|        AUTOMOBILE| 20,45,789 |      1|      16,599|               2|                 3|\n|    IB14107| 44|FEMALE|    ACCOUNT MANAGER|       MARRIED|          4|800000|      15632|            8|        AUTOMOBILE| 23,65,478 |      5|      20,145|               3|                 4|\n|    IB14109| 56|  MALE|             DRIVER|       MARRIED|          5| 30000|      15426|            7|        TRAVELLING|  9,21,456 |      6|      20,000|               4|                 6|\n|    IB14111| 57|FEMALE|  CORPORATE OFFICER|       MARRIED|          3| 52143|       null|            4|COMPUTER SOFTWARES| 75,41,236 |      4|      11,111|               3|                 2|\n|    IB14113| 49|  MALE|  ASSISTANT MANAGER|       MARRIED|          7| 45612|      39542|            3|          SHOPPING|  5,87,412 |      7|      65,412|               3|                 2|\n+-----------+---+------+-------------------+--------------+-----------+------+-----------+-------------+------------------+-----------+-------+------------+----------------+------------------+\nonly showing top 20 rows\n\n"
     ]
    }
   ],
   "source": [
    "# Filter customers older than 40\n",
    "\n",
    "from pyspark.sql import SparkSession\n",
    "\n",
    "spark = SparkSession.builder.appName(\"LoanData\").getOrCreate()\n",
    "\n",
    "filtered_df = df.filter(df['Age'] > 40)\n",
    "\n",
    "filtered_df.show()\n"
   ]
  },
  {
   "cell_type": "code",
   "execution_count": 0,
   "metadata": {
    "application/vnd.databricks.v1+cell": {
     "cellMetadata": {
      "byteLimit": 2048000,
      "rowLimit": 10000
     },
     "inputWidgets": {},
     "nuid": "4b183983-5128-4620-bd13-cd2ffc07d23c",
     "showTitle": false,
     "tableResultSettingsMap": {},
     "title": ""
    }
   },
   "outputs": [
    {
     "output_type": "stream",
     "name": "stdout",
     "output_type": "stream",
     "text": [
      "+-----------+---+------+-------------------+--------------+-----------+------+-----------+-------------+------------------+-----------+-------+------------+----------------+------------------+\n|Customer_ID|Age|Gender|         Occupation|Marital Status|Family Size|Income|Expenditure|Use Frequency|     Loan Category|Loan Amount|Overdue| Debt Record| Returned Cheque| Dishonour of Bill|\n+-----------+---+------+-------------------+--------------+-----------+------+-----------+-------------+------------------+-----------+-------+------------+----------------+------------------+\n|    IB14031| 37|FEMALE|  SOFTWARE ENGINEER|       MARRIED|          5| 55999|      23999|            5|        AUTOMOBILE|     60,999|      2|           0|               5|                 3|\n|    IB14034| 32|  MALE|   PRODUCT ENGINEER|       MARRIED|          6|  null|      29000|            7|COMPUTER SOFTWARES|     80,660|      6|       4,500|               5|                 4|\n|    IB14041| 59|FEMALE|ASSISTANT PROFESSOR|       MARRIED|          4| 50999|      22999|            5|  EDUCATIONAL LOAN|  5,99,934 |      3|       9,000|               9|                 9|\n|    IB14054| 58|FEMALE|             DOCTOR|       MARRIED|          5| 60000|      25000|            5|           HOUSING|  9,00,000 |      5|      21,000|               9|                 0|\n|    IB14082| 60|FEMALE|            TEACHER|       MARRIED|          5| 70000|      40000|            9|         GOLD LOAN|  2,57,789 |      4|      10,058|               4|                 3|\n|    IB14092| 47|  MALE|    SYSTEM ENGINEER|       MARRIED|          4| 52364|      45612|            3|         GOLD LOAN|  6,54,725 |      4|      67,451|               5|                 4|\n|    1B14094| 49|  MALE|ASSISTANT PROFESSOR|       MARRIED|          5| 65214|      42589|            5|           HOUSING|  9,85,412 |      5|      11,254|               1|                 2|\n|    IB14099| 47|FEMALE|             DOCTOR|       MARRIED|          4| 72154|      45286|            4|        AUTOMOBILE|  7,54,126 |      2|      19,524|               5|                 2|\n|    IB14101| 33|FEMALE|   PRODUCT ENGINEER|       MARRIED|          5|  null|      45812|            5|        AUTOMOBILE|  8,52,416 |      4|      17,524|               6|                 3|\n|    IB14104| 54|  MALE|    AIRPORT OFFICER|       MARRIED|          6| 80000|      32541|            2|        AUTOMOBILE| 20,45,789 |      1|      16,599|               2|                 3|\n|    IB14106| 29|  MALE|    FIRE DEPARTMENT|       MARRIED|          5| 45213|      32457|            9|        TRAVELLING| 15,24,789 |      7|      90,000|               2|                 5|\n|    IB14113| 49|  MALE|  ASSISTANT MANAGER|       MARRIED|          7| 45612|      39542|            3|          SHOPPING|  5,87,412 |      7|      65,412|               3|                 2|\n|    IB14115| 41|  MALE|       BANK MANAGER|       MARRIED|          6| 64125|      21246|            6|        TRAVELLING|  6,52,147 |      5|      16,524|               3|                 3|\n|    IB14117| 39|FEMALE|     SYSTEM OFFICER|       MARRIED|          6|  null|      32541|            5|  EDUCATIONAL LOAN|  1,02,256 |      3|      14,256|               4|                 4|\n|    IB14120| 47|FEMALE|            TEACHER|       MARRIED|          3| 50000|      42563|            4|       RESTAURANTS|  6,54,120 |      6|      45,127|               2|                 3|\n|    IB14123| 36|  MALE|        ELECTRICIAN|       MARRIED|          2| 36985|      25648|            6|        AUTOMOBILE|  9,85,413 |      7|      20,000|               5|                 3|\n|    IB14125| 29|FEMALE|            TEACHER|       MARRIED|          4| 59999|      42568|            4|        AUTOMOBILE| 52,14,789 |      5|      17,452|               2|                 2|\n|    IB14128| 46|FEMALE|              CLERK|       MARRIED|          3|750000|      25641|            5|         GOLD LOAN|  2,14,569 |      4|      16,324|               3|                 4|\n|    IB14130| 43|  MALE|   PRODUCT ENGINEER|       MARRIED|          4| 50147|      45863|            8|COMPUTER SOFTWARES|  7,85,241 |      8|      19,999|               3|                 5|\n|    IB14134| 33|  MALE|             DOCTOR|       MARRIED|          6| 70000|      33541|            8|          BUILDING|  7,45,213 |      4|      19,541|               1|                 3|\n+-----------+---+------+-------------------+--------------+-----------+------+-----------+-------------+------------------+-----------+-------+------------+----------------+------------------+\nonly showing top 20 rows\n\n"
     ]
    }
   ],
   "source": [
    "# Filter married customers with Expenditure greater than 20,000\n",
    "married_high_expenditure_sql_df = spark.sql(\"SELECT * FROM loan WHERE `Marital Status` = 'MARRIED' AND Expenditure > 20000\")\n",
    "\n",
    "married_high_expenditure_sql_df.show()\n"
   ]
  },
  {
   "cell_type": "markdown",
   "metadata": {
    "application/vnd.databricks.v1+cell": {
     "cellMetadata": {},
     "inputWidgets": {},
     "nuid": "e5299f2a-2557-4f49-8546-4791eb093434",
     "showTitle": false,
     "tableResultSettingsMap": {},
     "title": ""
    }
   },
   "source": [
    "# Joins"
   ]
  },
  {
   "cell_type": "code",
   "execution_count": 0,
   "metadata": {
    "application/vnd.databricks.v1+cell": {
     "cellMetadata": {
      "byteLimit": 2048000,
      "rowLimit": 10000
     },
     "inputWidgets": {},
     "nuid": "3559110e-6559-4ee8-963c-4a354aee8de7",
     "showTitle": false,
     "tableResultSettingsMap": {},
     "title": ""
    }
   },
   "outputs": [
    {
     "output_type": "stream",
     "name": "stdout",
     "output_type": "stream",
     "text": [
      "+-----------+---+------+----------+--------------+-----------+------+-----------+-------------+-------------+-----------+-------+------------+----------------+------------------+---------+----------+-------+-----------+---------+------+---+------+-------+-------------+--------------+---------------+------+\n|Customer_ID|Age|Gender|Occupation|Marital Status|Family Size|Income|Expenditure|Use Frequency|Loan Category|Loan Amount|Overdue| Debt Record| Returned Cheque| Dishonour of Bill|RowNumber|CustomerId|Surname|CreditScore|Geography|Gender|Age|Tenure|Balance|NumOfProducts|IsActiveMember|EstimatedSalary|Exited|\n+-----------+---+------+----------+--------------+-----------+------+-----------+-------------+-------------+-----------+-------+------------+----------------+------------------+---------+----------+-------+-----------+---------+------+---+------+-------+-------------+--------------+---------------+------+\n+-----------+---+------+----------+--------------+-----------+------+-----------+-------------+-------------+-----------+-------+------------+----------------+------------------+---------+----------+-------+-----------+---------+------+---+------+-------+-------------+--------------+---------------+------+\n\n"
     ]
    }
   ],
   "source": [
    "# Load the loan and credit tables as DataFrames\n",
    "loan_df = spark.table(\"loan\") \n",
    "credit_df = spark.table(\"credit\")  \n",
    "\n",
    "# Inner join between loan and credit tables on Customer_ID\n",
    "inner_join_df = loan_df.join(credit_df, loan_df.Customer_ID == credit_df.CustomerId, 'inner')\n",
    "\n",
    "inner_join_df.show()\n"
   ]
  },
  {
   "cell_type": "code",
   "execution_count": 0,
   "metadata": {
    "application/vnd.databricks.v1+cell": {
     "cellMetadata": {
      "byteLimit": 2048000,
      "rowLimit": 10000
     },
     "inputWidgets": {},
     "nuid": "a3072411-f7d9-4e24-b743-305db3055a0d",
     "showTitle": false,
     "tableResultSettingsMap": {},
     "title": ""
    }
   },
   "outputs": [
    {
     "output_type": "stream",
     "name": "stdout",
     "output_type": "stream",
     "text": [
      "+-----------+---+------+-------------------+--------------+-----------+------+-----------+-------------+------------------+-----------+-------+------------+----------------+------------------+---------+----------+-------+-----------+---------+------+----+------+-------+-------------+--------------+---------------+------+\n|Customer_ID|Age|Gender|         Occupation|Marital Status|Family Size|Income|Expenditure|Use Frequency|     Loan Category|Loan Amount|Overdue| Debt Record| Returned Cheque| Dishonour of Bill|RowNumber|CustomerId|Surname|CreditScore|Geography|Gender| Age|Tenure|Balance|NumOfProducts|IsActiveMember|EstimatedSalary|Exited|\n+-----------+---+------+-------------------+--------------+-----------+------+-----------+-------------+------------------+-----------+-------+------------+----------------+------------------+---------+----------+-------+-----------+---------+------+----+------+-------+-------------+--------------+---------------+------+\n|    IB14001| 30|  MALE|       BANK MANAGER|        SINGLE|          4| 50000|      22199|            6|           HOUSING| 10,00,000 |      5|      42,898|               6|                 9|     null|      null|   null|       null|     null|  null|null|  null|   null|         null|          null|           null|  null|\n|    IB14008| 44|  MALE|          PROFESSOR|       MARRIED|          6| 51000|      19999|            4|          SHOPPING|     50,000|      3|      33,999|               1|                 5|     null|      null|   null|       null|     null|  null|null|  null|   null|         null|          null|           null|  null|\n|    IB14012| 30|FEMALE|            DENTIST|        SINGLE|          3| 58450|      27675|            5|        TRAVELLING|     75,000|      6|      20,876|               3|                 1|     null|      null|   null|       null|     null|  null|null|  null|   null|         null|          null|           null|  null|\n|    IB14018| 29|  MALE|            TEACHER|       MARRIED|          5| 45767|      12787|            3|         GOLD LOAN|  6,00,000 |      7|      11,000|               0|                 4|     null|      null|   null|       null|     null|  null|null|  null|   null|         null|          null|           null|  null|\n|    IB14022| 34|  MALE|             POLICE|        SINGLE|          4| 43521|      11999|            3|        AUTOMOBILE|  2,00,000 |      2|      43,898|               1|                 2|     null|      null|   null|       null|     null|  null|null|  null|   null|         null|          null|           null|  null|\n|    IB14024| 55|FEMALE|              NURSE|       MARRIED|          6| 34999|      19888|            4|        AUTOMOBILE|     47,787|      1|      50,000|               0|                 3|     null|      null|   null|       null|     null|  null|null|  null|   null|         null|          null|           null|  null|\n|    IB14025| 39|FEMALE|            TEACHER|       MARRIED|          6| 46619|      18675|            4|           HOUSING| 12,09,867 |      8|      29,999|               6|                 8|     null|      null|   null|       null|     null|  null|null|  null|   null|         null|          null|           null|  null|\n|    IB14027| 51|  MALE|     SYSTEM MANAGER|       MARRIED|          3| 49999|      19111|            5|       RESTAURANTS|     60,676|      8|      13,000|               2|                 5|     null|      null|   null|       null|     null|  null|null|  null|   null|         null|          null|           null|  null|\n|    IB14029| 24|FEMALE|            TEACHER|        SINGLE|          3| 45008|      17454|            4|        AUTOMOBILE|  3,99,435 |      9|      51,987|               4|                 7|     null|      null|   null|       null|     null|  null|null|  null|   null|         null|          null|           null|  null|\n|    IB14031| 37|FEMALE|  SOFTWARE ENGINEER|       MARRIED|          5| 55999|      23999|            5|        AUTOMOBILE|     60,999|      2|           0|               5|                 3|     null|      null|   null|       null|     null|  null|null|  null|   null|         null|          null|           null|  null|\n|    IB14032| 24|  MALE|       DATA ANALYST|        SINGLE|          4| 60111|      28999|            6|        AUTOMOBILE|     35,232|      5|      33,333|               1|                 2|     null|      null|   null|       null|     null|  null|null|  null|   null|         null|          null|           null|  null|\n|    IB14034| 32|  MALE|   PRODUCT ENGINEER|       MARRIED|          6|  null|      29000|            7|COMPUTER SOFTWARES|     80,660|      6|       4,500|               5|                 4|     null|      null|   null|       null|     null|  null|null|  null|   null|         null|          null|           null|  null|\n|    IB14037| 54|FEMALE|            TEACHER|       MARRIED|          5| 48099|      19999|            4|       RESTAURANTS|     30,999|      1|      12,000|               7|                 5|     null|      null|   null|       null|     null|  null|null|  null|   null|         null|          null|           null|  null|\n|    IB14039| 45|  MALE|    ACCOUNT MANAGER|       MARRIED|          7| 45777|      18452|            4|         GOLD LOAN|  9,87,611 |      7|      39,999|               8|                 1|     null|      null|   null|       null|     null|  null|null|  null|   null|         null|          null|           null|  null|\n|    IB14041| 59|FEMALE|ASSISTANT PROFESSOR|       MARRIED|          4| 50999|      22999|            5|  EDUCATIONAL LOAN|  5,99,934 |      3|       9,000|               9|                 9|     null|      null|   null|       null|     null|  null|null|  null|   null|         null|          null|           null|  null|\n|    IB14042| 25|FEMALE|             DOCTOR|        SINGLE|          4| 60111|      27111|            5|        TRAVELLING| 12,90,929 |      4|      18,000|               1|                 0|     null|      null|   null|       null|     null|  null|null|  null|   null|         null|          null|           null|  null|\n|    IB14045| 31|  MALE|       STORE KEEPER|        SINGLE|          5| 40999|      11999|            3|       BOOK STORES|  1,67,654 |      1|       4,500|               0|                 1|     null|      null|   null|       null|     null|  null|null|  null|   null|         null|          null|           null|  null|\n|    IB14049| 49|  MALE|       BANK MANAGER|       MARRIED|          4| 45999|      14500|            4|        TRAVELLING|     79,999|      4|       6,700|               7|                 3|     null|      null|   null|       null|     null|  null|null|  null|   null|         null|          null|           null|  null|\n|    IB14050| 56|  MALE|     CIVIL ENGINEER|       MARRIED|          4|  null|      13999|            3|           HOUSING| 10,65,577 |      6|      19,999|               4|                 2|     null|      null|   null|       null|     null|  null|null|  null|   null|         null|          null|           null|  null|\n|    IB14054| 58|FEMALE|             DOCTOR|       MARRIED|          5| 60000|      25000|            5|           HOUSING|  9,00,000 |      5|      21,000|               9|                 0|     null|      null|   null|       null|     null|  null|null|  null|   null|         null|          null|           null|  null|\n+-----------+---+------+-------------------+--------------+-----------+------+-----------+-------------+------------------+-----------+-------+------------+----------------+------------------+---------+----------+-------+-----------+---------+------+----+------+-------+-------------+--------------+---------------+------+\nonly showing top 20 rows\n\n"
     ]
    }
   ],
   "source": [
    "# Left join between loan and credit tables on Customer_ID\n",
    "left_join_df = loan_df.join(credit_df, loan_df.Customer_ID == credit_df.CustomerId, 'left')\n",
    "left_join_df.show()\n"
   ]
  },
  {
   "cell_type": "code",
   "execution_count": 0,
   "metadata": {
    "application/vnd.databricks.v1+cell": {
     "cellMetadata": {
      "byteLimit": 2048000,
      "rowLimit": 10000
     },
     "inputWidgets": {},
     "nuid": "52b3f11f-350d-4010-828d-6c882bd14e7c",
     "showTitle": false,
     "tableResultSettingsMap": {},
     "title": ""
    }
   },
   "outputs": [
    {
     "output_type": "stream",
     "name": "stdout",
     "output_type": "stream",
     "text": [
      "+-----------+----+------+----------+--------------+-----------+------+-----------+-------------+-------------+-----------+-------+------------+----------------+------------------+---------+----------+---------+-----------+---------+------+---+------+---------+-------------+--------------+---------------+------+\n|Customer_ID| Age|Gender|Occupation|Marital Status|Family Size|Income|Expenditure|Use Frequency|Loan Category|Loan Amount|Overdue| Debt Record| Returned Cheque| Dishonour of Bill|RowNumber|CustomerId|  Surname|CreditScore|Geography|Gender|Age|Tenure|  Balance|NumOfProducts|IsActiveMember|EstimatedSalary|Exited|\n+-----------+----+------+----------+--------------+-----------+------+-----------+-------------+-------------+-----------+-------+------------+----------------+------------------+---------+----------+---------+-----------+---------+------+---+------+---------+-------------+--------------+---------------+------+\n|       null|null|  null|      null|          null|       null|  null|       null|         null|         null|       null|   null|        null|            null|              null|        1|  15634602| Hargrave|        619|   France|Female| 42|     2|        0|            1|             1|      101348.88|     1|\n|       null|null|  null|      null|          null|       null|  null|       null|         null|         null|       null|   null|        null|            null|              null|        2|  15647311|     Hill|        608|    Spain|Female| 41|     1| 83807.86|            1|             1|      112542.58|     0|\n|       null|null|  null|      null|          null|       null|  null|       null|         null|         null|       null|   null|        null|            null|              null|        3|  15619304|     Onio|        502|   France|Female| 42|     8| 159660.8|            3|             0|      113931.57|     1|\n|       null|null|  null|      null|          null|       null|  null|       null|         null|         null|       null|   null|        null|            null|              null|        4|  15701354|     Boni|        699|   France|Female| 39|     1|        0|            2|             0|       93826.63|     0|\n|       null|null|  null|      null|          null|       null|  null|       null|         null|         null|       null|   null|        null|            null|              null|        5|  15737888| Mitchell|        850|    Spain|Female| 43|     2|125510.82|            1|             1|        79084.1|     0|\n|       null|null|  null|      null|          null|       null|  null|       null|         null|         null|       null|   null|        null|            null|              null|        6|  15574012|      Chu|        645|    Spain|  Male| 44|     8|113755.78|            2|             0|      149756.71|     1|\n|       null|null|  null|      null|          null|       null|  null|       null|         null|         null|       null|   null|        null|            null|              null|        7|  15592531| Bartlett|        822|   France|  Male| 50|     7|        0|            2|             1|        10062.8|     0|\n|       null|null|  null|      null|          null|       null|  null|       null|         null|         null|       null|   null|        null|            null|              null|        8|  15656148|   Obinna|        376|  Germany|Female| 29|     4|115046.74|            4|             0|      119346.88|     1|\n|       null|null|  null|      null|          null|       null|  null|       null|         null|         null|       null|   null|        null|            null|              null|        9|  15792365|       He|        501|   France|  Male| 44|     4|142051.07|            2|             1|        74940.5|     0|\n|       null|null|  null|      null|          null|       null|  null|       null|         null|         null|       null|   null|        null|            null|              null|       10|  15592389|       H?|        684|   France|  Male| 27|     2|134603.88|            1|             1|       71725.73|     0|\n|       null|null|  null|      null|          null|       null|  null|       null|         null|         null|       null|   null|        null|            null|              null|       11|  15767821|   Bearce|        528|   France|  Male| 31|     6|102016.72|            2|             0|       80181.12|     0|\n|       null|null|  null|      null|          null|       null|  null|       null|         null|         null|       null|   null|        null|            null|              null|       12|  15737173|  Andrews|        497|    Spain|  Male| 24|     3|        0|            2|             0|       76390.01|     0|\n|       null|null|  null|      null|          null|       null|  null|       null|         null|         null|       null|   null|        null|            null|              null|       13|  15632264|      Kay|        476|   France|Female| 34|    10|        0|            2|             0|       26260.98|     0|\n|       null|null|  null|      null|          null|       null|  null|       null|         null|         null|       null|   null|        null|            null|              null|       14|  15691483|     Chin|        549|   France|Female| 25|     5|        0|            2|             0|      190857.79|     0|\n|       null|null|  null|      null|          null|       null|  null|       null|         null|         null|       null|   null|        null|            null|              null|       15|  15600882|    Scott|        635|    Spain|Female| 35|     7|        0|            2|             1|       65951.65|     0|\n|       null|null|  null|      null|          null|       null|  null|       null|         null|         null|       null|   null|        null|            null|              null|       16|  15643966|  Goforth|        616|  Germany|  Male| 45|     3|143129.41|            2|             1|       64327.26|     0|\n|       null|null|  null|      null|          null|       null|  null|       null|         null|         null|       null|   null|        null|            null|              null|       17|  15737452|    Romeo|        653|  Germany|  Male| 58|     1|132602.88|            1|             0|        5097.67|     1|\n|       null|null|  null|      null|          null|       null|  null|       null|         null|         null|       null|   null|        null|            null|              null|       18|  15788218|Henderson|        549|    Spain|Female| 24|     9|        0|            2|             1|       14406.41|     0|\n|       null|null|  null|      null|          null|       null|  null|       null|         null|         null|       null|   null|        null|            null|              null|       19|  15661507|  Muldrow|        587|    Spain|  Male| 45|     6|        0|            1|             0|      158684.81|     0|\n|       null|null|  null|      null|          null|       null|  null|       null|         null|         null|       null|   null|        null|            null|              null|       20|  15568982|      Hao|        726|   France|Female| 24|     6|        0|            2|             1|       54724.03|     0|\n+-----------+----+------+----------+--------------+-----------+------+-----------+-------------+-------------+-----------+-------+------------+----------------+------------------+---------+----------+---------+-----------+---------+------+---+------+---------+-------------+--------------+---------------+------+\nonly showing top 20 rows\n\n"
     ]
    }
   ],
   "source": [
    "# Right join between loan and credit tables on Customer_ID\n",
    "right_join_df = loan_df.join(credit_df, loan_df.Customer_ID == credit_df.CustomerId, 'right')\n",
    "right_join_df.show()\n"
   ]
  },
  {
   "cell_type": "code",
   "execution_count": 0,
   "metadata": {
    "application/vnd.databricks.v1+cell": {
     "cellMetadata": {
      "byteLimit": 2048000,
      "rowLimit": 10000
     },
     "inputWidgets": {},
     "nuid": "e9076ae2-6249-4897-813f-d868bf106118",
     "showTitle": false,
     "tableResultSettingsMap": {},
     "title": ""
    }
   },
   "outputs": [
    {
     "output_type": "stream",
     "name": "stdout",
     "output_type": "stream",
     "text": [
      "+-----------+----+------+----------+--------------+-----------+------+-----------+-------------+-------------+-----------+-------+------------+----------------+------------------+---------+----------+----------+-----------+---------+------+---+------+---------+-------------+--------------+---------------+------+\n|Customer_ID| Age|Gender|Occupation|Marital Status|Family Size|Income|Expenditure|Use Frequency|Loan Category|Loan Amount|Overdue| Debt Record| Returned Cheque| Dishonour of Bill|RowNumber|CustomerId|   Surname|CreditScore|Geography|Gender|Age|Tenure|  Balance|NumOfProducts|IsActiveMember|EstimatedSalary|Exited|\n+-----------+----+------+----------+--------------+-----------+------+-----------+-------------+-------------+-----------+-------+------------+----------------+------------------+---------+----------+----------+-----------+---------+------+---+------+---------+-------------+--------------+---------------+------+\n|       null|null|  null|      null|          null|       null|  null|       null|         null|         null|       null|   null|        null|            null|              null|     1288|  15565701|     Ferri|        698|    Spain|Female| 39|     9|161993.89|            1|             0|       90212.38|     0|\n|       null|null|  null|      null|          null|       null|  null|       null|         null|         null|       null|   null|        null|            null|              null|     4199|  15565706|  Akobundu|        612|    Spain|  Male| 35|     1|        0|            1|             1|       83256.26|     1|\n|       null|null|  null|      null|          null|       null|  null|       null|         null|         null|       null|   null|        null|            null|              null|     7091|  15565714|  Cattaneo|        601|   France|  Male| 47|     1| 64430.06|            2|             1|       96517.97|     0|\n|       null|null|  null|      null|          null|       null|  null|       null|         null|         null|       null|   null|        null|            null|              null|     2021|  15565779|      Kent|        627|  Germany|Female| 30|     6| 57809.32|            1|             0|      188258.49|     0|\n|       null|null|  null|      null|          null|       null|  null|       null|         null|         null|       null|   null|        null|            null|              null|     3698|  15565796|  Docherty|        745|  Germany|  Male| 48|    10| 96048.55|            1|             0|       74510.65|     0|\n|       null|null|  null|      null|          null|       null|  null|       null|         null|         null|       null|   null|        null|            null|              null|     3417|  15565806|    Toosey|        532|   France|  Male| 38|     9|        0|            2|             0|       30583.95|     0|\n|       null|null|  null|      null|          null|       null|  null|       null|         null|         null|       null|   null|        null|            null|              null|     6882|  15565878|     Bates|        631|    Spain|  Male| 29|     3|        0|            2|             1|      197963.46|     0|\n|       null|null|  null|      null|          null|       null|  null|       null|         null|         null|       null|   null|        null|            null|              null|     9515|  15565879|     Riley|        845|   France|Female| 28|     9|        0|            2|             1|       56185.98|     0|\n|       null|null|  null|      null|          null|       null|  null|       null|         null|         null|       null|   null|        null|            null|              null|     5796|  15565891|  Dipietro|        709|   France|  Male| 39|     8|        0|            2|             0|       56214.09|     0|\n|       null|null|  null|      null|          null|       null|  null|       null|         null|         null|       null|   null|        null|            null|              null|     7187|  15565996|    Arnold|        653|   France|  Male| 44|     8|        0|            2|             1|      154639.72|     0|\n|       null|null|  null|      null|          null|       null|  null|       null|         null|         null|       null|   null|        null|            null|              null|     6476|  15566030|        Tu|        497|  Germany|  Male| 41|     5| 80542.81|            1|             0|       88729.22|     1|\n|       null|null|  null|      null|          null|       null|  null|       null|         null|         null|       null|   null|        null|            null|              null|      913|  15566091|   Thomsen|        545|    Spain|Female| 32|     4|        0|            1|             0|        94739.2|     0|\n|       null|null|  null|      null|          null|       null|  null|       null|         null|         null|       null|   null|        null|            null|              null|      425|  15566111|     Estes|        596|   France|  Male| 39|     9|        0|            1|             0|       48963.59|     0|\n|       null|null|  null|      null|          null|       null|  null|       null|         null|         null|       null|   null|        null|            null|              null|     9632|  15566139|     Ts'ui|        526|   France|Female| 37|     5| 53573.18|            1|             0|       62830.97|     0|\n|       null|null|  null|      null|          null|       null|  null|       null|         null|         null|       null|   null|        null|            null|              null|      982|  15566156|  Franklin|        749|  Germany|Female| 44|     0| 71497.79|            2|             0|       151083.8|     0|\n|       null|null|  null|      null|          null|       null|  null|       null|         null|         null|       null|   null|        null|            null|              null|     1463|  15566211|       Hsu|        616|  Germany|Female| 41|     1|103560.57|            1|             0|         236.45|     1|\n|       null|null|  null|      null|          null|       null|  null|       null|         null|         null|       null|   null|        null|            null|              null|     1141|  15566251|   Ferrari|        618|   France|Female| 37|     5| 96652.86|            1|             0|        98686.4|     1|\n|       null|null|  null|      null|          null|       null|  null|       null|         null|         null|       null|   null|        null|            null|              null|     5425|  15566253|   Manning|        580|  Germany|  Male| 44|     9|143391.07|            1|             0|      146891.07|     1|\n|       null|null|  null|      null|          null|       null|  null|       null|         null|         null|       null|   null|        null|            null|              null|     5345|  15566269|  Chialuka|        787|   France|  Male| 25|     5|        0|            2|             0|        47307.9|     0|\n|       null|null|  null|      null|          null|       null|  null|       null|         null|         null|       null|   null|        null|            null|              null|      704|  15566292|Okwuadigbo|        574|    Spain|  Male| 36|     1|        0|            2|             1|       71709.12|     0|\n+-----------+----+------+----------+--------------+-----------+------+-----------+-------------+-------------+-----------+-------+------------+----------------+------------------+---------+----------+----------+-----------+---------+------+---+------+---------+-------------+--------------+---------------+------+\nonly showing top 20 rows\n\n"
     ]
    }
   ],
   "source": [
    "# Outer join between loan and credit tables on Customer_ID\n",
    "outer_join_df = loan_df.join(credit_df, loan_df.Customer_ID == credit_df.CustomerId, 'outer')\n",
    "outer_join_df.show()\n"
   ]
  },
  {
   "cell_type": "markdown",
   "metadata": {
    "application/vnd.databricks.v1+cell": {
     "cellMetadata": {},
     "inputWidgets": {},
     "nuid": "b7b7b0dc-a3e4-4004-948c-ce0077b36aa0",
     "showTitle": false,
     "tableResultSettingsMap": {},
     "title": ""
    }
   },
   "source": [
    "# Simple aggregate functions"
   ]
  },
  {
   "cell_type": "code",
   "execution_count": 0,
   "metadata": {
    "application/vnd.databricks.v1+cell": {
     "cellMetadata": {
      "byteLimit": 2048000,
      "rowLimit": 10000
     },
     "inputWidgets": {},
     "nuid": "9286b0d3-2a15-49d0-8e08-de4e5b4b6e33",
     "showTitle": false,
     "tableResultSettingsMap": {},
     "title": ""
    }
   },
   "outputs": [
    {
     "output_type": "stream",
     "name": "stdout",
     "output_type": "stream",
     "text": [
      "+-------------+\n|total_records|\n+-------------+\n|          500|\n+-------------+\n\n+-----------------+\n|       avg_income|\n+-----------------+\n|68339.49145299145|\n+-----------------+\n\n"
     ]
    }
   ],
   "source": [
    "# Count the number of records in the loan table using PySpark\n",
    "count_records = spark.sql(\"SELECT COUNT(*) AS total_records FROM loan\")\n",
    "count_records.show()\n",
    "\n",
    "# Average Income Amount in the loan table using PySpark\n",
    "average_income = spark.sql(\"\"\"\n",
    "    SELECT AVG(`Income`) AS avg_income \n",
    "    FROM loan\n",
    "\"\"\")\n",
    "average_income.show()\n"
   ]
  },
  {
   "cell_type": "markdown",
   "metadata": {
    "application/vnd.databricks.v1+cell": {
     "cellMetadata": {},
     "inputWidgets": {},
     "nuid": "bf416216-dd2e-44a9-ad18-1db8aab4fd43",
     "showTitle": false,
     "tableResultSettingsMap": {},
     "title": ""
    }
   },
   "source": [
    "# Group By"
   ]
  },
  {
   "cell_type": "code",
   "execution_count": 0,
   "metadata": {
    "application/vnd.databricks.v1+cell": {
     "cellMetadata": {
      "byteLimit": 2048000,
      "rowLimit": 10000
     },
     "inputWidgets": {},
     "nuid": "1ed77510-3f86-4e97-a2f3-202f90c3fd14",
     "showTitle": false,
     "tableResultSettingsMap": {},
     "title": ""
    }
   },
   "outputs": [
    {
     "output_type": "stream",
     "name": "stdout",
     "output_type": "stream",
     "text": [
      "+--------------+-----------------+\n|Marital Status|total_expenditure|\n+--------------+-----------------+\n|        SINGLE|        3986776.0|\n|       MARRIED|        9256684.0|\n+--------------+-----------------+\n\n+------------------+------------------+\n|     Loan Category|   avg_expenditure|\n+------------------+------------------+\n|           HOUSING|29052.666666666668|\n|        TRAVELLING|         26211.125|\n|       BOOK STORES|           21221.0|\n|       AGRICULTURE|           30573.5|\n|         GOLD LOAN| 26168.61842105263|\n|  EDUCATIONAL LOAN|           31088.6|\n|        AUTOMOBILE|26787.660714285714|\n|          BUSINESS|           31431.0|\n|COMPUTER SOFTWARES|26157.363636363636|\n|           DINNING|27934.285714285714|\n|          SHOPPING|26654.272727272728|\n|       RESTAURANTS|           25398.0|\n|       ELECTRONICS| 26123.46153846154|\n|          BUILDING|36014.857142857145|\n|        RESTAURANT|          30609.75|\n|   HOME APPLIANCES|27622.384615384617|\n+------------------+------------------+\n\n"
     ]
    }
   ],
   "source": [
    "# Group by Marital Status and calculate the total Expenditure using PySpark\n",
    "group_by_marital_status = spark.sql(\"\"\"\n",
    "    SELECT `Marital Status`, SUM(Expenditure) AS total_expenditure\n",
    "    FROM loan\n",
    "    GROUP BY `Marital Status`\n",
    "\"\"\")\n",
    "group_by_marital_status.show()\n",
    "\n",
    "# Group by Loan Category and calculate the average Expenditure using PySpark\n",
    "group_by_loan_category = spark.sql(\"\"\"\n",
    "    SELECT `Loan Category`, AVG(Expenditure) AS avg_expenditure\n",
    "    FROM loan\n",
    "    GROUP BY `Loan Category`\n",
    "\"\"\")\n",
    "group_by_loan_category.show()\n",
    "\n"
   ]
  }
 ],
 "metadata": {
  "application/vnd.databricks.v1+notebook": {
   "dashboards": [],
   "environmentMetadata": null,
   "language": "python",
   "notebookMetadata": {
    "pythonIndentUnit": 4
   },
   "notebookName": "PySpark-Coding-Challenge",
   "widgets": {}
  }
 },
 "nbformat": 4,
 "nbformat_minor": 0
}
